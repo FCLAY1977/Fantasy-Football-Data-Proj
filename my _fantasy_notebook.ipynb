{
 "cells": [
  {
   "cell_type": "code",
   "execution_count": null,
   "metadata": {},
   "outputs": [],
   "source": [
    "import pandas as pd\n",
    "import matplotlib.pyplot as plt\n",
    "\n",
    "\n",
    "\n",
    "file_path = r'C:\\Users\\raind\\OneDrive\\Desktop\\Python DA Class July 2023\\Players CSV.csv'\n",
    "\n",
    "df = pd.read_csv(file_path)\n",
    "\n",
    "df.head(250)\n",
    "\n",
    "\n",
    "\n"
   ]
  },
  {
   "cell_type": "code",
   "execution_count": null,
   "metadata": {},
   "outputs": [],
   "source": [
    "#Data Cleaning Steps\n",
    "# Cell 3: Data Cleaning\n",
    "df_cleaned = df.dropna()\n",
    "\n",
    "# Specify columns to eliminate\n",
    "columns_to_eliminate = ['Age', 'G', 'GS', 'Y/A', '2:00 PM', '2PP', 'Fmb', 'FL' ]\n",
    "\n",
    "# Drop specified columns\n",
    "df_cleaned = df.drop(columns=columns_to_eliminate)\n",
    "\n",
    "# Display the resulting DataFrame\n",
    "df_cleaned.head(250)\n",
    "\n",
    "\n",
    "\n",
    "\n",
    "\n",
    "\n",
    "\n"
   ]
  },
  {
   "cell_type": "code",
   "execution_count": 11,
   "metadata": {},
   "outputs": [],
   "source": [
    "df_cleaned = df.dropna()\n",
    "\n",
    "df_cleaned = df.fillna(0)\n",
    "\n",
    "df_cleaned = df.drop_duplicates()\n",
    "\n",
    "# Calculate summary statistics for numeric columns\n",
    "summary_stats = df_cleaned.describe()\n",
    "\n",
    "# Calculate the median of a specific column\n",
    "median_points = df_cleaned['FantPt'].median()\n",
    "\n",
    "# Calculate the standard deviation of a specific column\n",
    "std_dev_points = df_cleaned['FantPt'].std()"
   ]
  }
 ],
 "metadata": {
  "kernelspec": {
   "display_name": "Python 3",
   "language": "python",
   "name": "python3"
  },
  "language_info": {
   "codemirror_mode": {
    "name": "ipython",
    "version": 3
   },
   "file_extension": ".py",
   "mimetype": "text/x-python",
   "name": "python",
   "nbconvert_exporter": "python",
   "pygments_lexer": "ipython3",
   "version": "3.11.4"
  }
 },
 "nbformat": 4,
 "nbformat_minor": 2
}
