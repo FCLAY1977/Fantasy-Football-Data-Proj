{
 "cells": [
  {
   "cell_type": "code",
   "execution_count": null,
   "metadata": {},
   "outputs": [],
   "source": [
    "import pandas as pd\n",
    "import matplotlib.pyplot as plt\n",
    "import numpy as np\n",
    "import pandasql as sql\n",
    "import seaborn as sns\n",
    "\n",
    "# Import necessary libraries\n",
    "# Comment: This line imports the necessary libraries for data analysis and visualization. \n",
    "# These libraries include pandas for data manipulation, matplotlib for plotting, numpy for numerical operations, and pandasql for performing SQL queries within Python.\n",
    "\n",
    "file_path = r'C:\\Users\\raind\\OneDrive\\Desktop\\Python DA Class July 2023\\Players CSV.csv'\n",
    "df = pd.read_csv(file_path)\n",
    "\n",
    "# Load player data from CSV file\n",
    "# Comment: This line reads the CSV file 'Players CSV.csv' into a Pandas DataFrame named 'df'. \n",
    "# The DataFrame contains player information such as name, team, and position.\n",
    "\n",
    "file_path2 = r'C:\\Users\\raind\\OneDrive\\Desktop\\Python DA Class July 2023\\FantasyPros_Fantasy_Football_Projections_QB.csv'\n",
    "df2 = pd.read_csv(file_path2)\n",
    "\n",
    "# Load fantasy projections data from CSV file\n",
    "# Comment: This line reads the CSV file 'FantasyPros_Fantasy_Football_Projections_QB.csv' into a Pandas DataFrame named 'df2'. \n",
    "# The DataFrame contains fantasy football projections for various players, including their projected fantasy points (FPTS).\n",
    "\n",
    "merged_df = df.merge(df2, on='Player')\n",
    "\n",
    "# Merge DataFrames based on 'Player' column\n",
    "# Comment: This line merges the two DataFrames, 'df' and 'df2', based on the 'Player' column. \n",
    "# This creates a new DataFrame, 'merged_df', that combines the player information from 'df' with the fantasy projections from 'df2'.\n",
    "\n",
    "merged_df.head(250)\n",
    "\n",
    "# Display the first 250 rows of the merged DataFrame\n",
    "# Comment: This line displays the first 250 rows of the merged DataFrame. \n",
    "# This provides a preview of the combined player information and fantasy projections.\n",
    "\n",
    "\n",
    "\n",
    "\n",
    "\n"
   ]
  },
  {
   "cell_type": "code",
   "execution_count": null,
   "metadata": {},
   "outputs": [],
   "source": [
    "#Data Cleaning Steps\n",
    "# Cell 3: Data Cleaning\n",
    "df_cleaned = df.dropna()\n",
    "\n",
    "# Specify columns to eliminate\n",
    "columns_to_eliminate = ['Age', 'G', 'GS', 'Y/A', '2:00 PM', '2PP', 'Fmb', 'FL' ]\n",
    "\n",
    "# Drop specified columns\n",
    "df_cleaned = df.drop(columns=columns_to_eliminate)\n",
    "\n",
    "# Display the resulting DataFrame\n",
    "df_cleaned.head(250)\n",
    "\n",
    "# Comment: This step displays the first 250 rows of the cleaned DataFrame. \n",
    "# This allows us to check that the data cleaning process was successful and that the DataFrame is in the desired format.\n",
    "\n",
    "\n",
    "\n"
   ]
  },
  {
   "cell_type": "code",
   "execution_count": null,
   "metadata": {},
   "outputs": [],
   "source": [
    "\n",
    "\n",
    "\n",
    "# Group the DataFrame by position and calculate the average fantasy points for each position\n",
    "average_fantasy_points = df.groupby('FantPos')['FantPt'].mean()\n",
    "\n",
    "# Sort the average fantasy points in descending order\n",
    "average_fantasy_points = average_fantasy_points.sort_values(ascending=False)\n",
    "\n",
    "# Create a bar chart to visualize the average fantasy points for each position\n",
    "plt.bar(average_fantasy_points.index, average_fantasy_points.values)\n",
    "plt.xlabel('Position')\n",
    "plt.ylabel('Average Fantasy Points')\n",
    "plt.title('Average Fantasy Points by Position')\n",
    "plt.show()\n"
   ]
  },
  {
   "cell_type": "code",
   "execution_count": null,
   "metadata": {},
   "outputs": [],
   "source": [
    "# Check for missing values in 'Player' column\n",
    "print(df['Player'].isnull().sum())\n",
    "\n",
    "# Check for missing values in 'FPTS' column\n",
    "print(df2['FPTS'].isnull().sum())\n",
    "\n",
    "# Remove rows with missing values in 'Player' column\n",
    "df.dropna(subset=['Player'], inplace=True)\n",
    "\n",
    "# Remove rows with missing values in 'FPTS' column\n",
    "df2.dropna(subset=['FPTS'], inplace=True)\n",
    "\n",
    "# Check for duplicate rows in 'Player' column\n",
    "print(df['Player'].duplicated().sum())\n",
    "\n",
    "# Remove duplicate rows in 'Player' column\n",
    "df.drop_duplicates(subset=['Player'], inplace=True)\n",
    "\n",
    "#This code performs data cleaning on the player data and fantasy projections data to ensure the quality and consistency of the data for further analysis. It checks for missing values in key columns, removes rows with missing values, and identifies and removes duplicate rows. \n",
    "# By cleaning the data, this code ensures that the subsequent analysis is based on reliable and accurate information.\n",
    "\n",
    "\n"
   ]
  },
  {
   "cell_type": "code",
   "execution_count": 67,
   "metadata": {},
   "outputs": [],
   "source": [
    "# Using pandasql library for SQL join\n",
    "merged_df = sql.sqldf(\"SELECT * FROM df LEFT JOIN df2 ON df.Player = df2.Player\")\n",
    "\n",
    "# Using plain SQL for SQL join\n",
    "merged_df = pd.merge(df, df2, on='Player', how='left')\n"
   ]
  },
  {
   "cell_type": "code",
   "execution_count": null,
   "metadata": {},
   "outputs": [],
   "source": [
    "\n",
    "\n",
    "# Merge DataFrames\n",
    "merged_df = sql.sqldf(\"SELECT * FROM df LEFT JOIN df2 ON df.Player = df2.Player\")\n",
    "\n",
    "# Check for missing values in 'FPTS' column after merging\n",
    "missing_FPTS = merged_df['FPTS'].isnull().sum()\n",
    "\n",
    "if missing_FPTS > 0:\n",
    "    print(f\"There are {missing_FPTS} missing values in the 'FPTS' column.\")\n",
    "\n",
    "    # Option 1: Fill in missing values with the mean\n",
    "    merged_df['FPTS'].fillna(merged_df['FPTS'].mean(), inplace=True)\n",
    "\n",
    "# Group the DataFrame by position and calculate the maximum fantasy points for each position\n",
    "max_fantasy_points = merged_df.groupby('FantPos')['FPTS'].max()\n",
    "\n",
    "# Sort the maximum fantasy points in descending order\n",
    "max_fantasy_points = max_fantasy_points.sort_values(ascending=False)\n",
    "\n",
    "\n",
    "\n",
    "# Create a bar chart to visualize the maximum fantasy points for each position\n",
    "plt.bar(max_fantasy_points.index, max_fantasy_points.values)\n",
    "plt.xlabel('Position')\n",
    "plt.ylabel('Maximum Fantasy Points')\n",
    "plt.show()\n",
    "\n",
    "# Comment: This line creates a bar chart to visualize the maximum fantasy points for each position. \n",
    "# This provides a visual representation of the distribution of maximum fantasy points across different positions.\n"
   ]
  },
  {
   "cell_type": "code",
   "execution_count": 76,
   "metadata": {},
   "outputs": [
    {
     "name": "stdout",
     "output_type": "stream",
     "text": [
      "Team       ARI    ATL    BAL   BUF   CAR    CHI    CLE         DAL    DEN  \\\n",
      "FantPos                                                                     \n",
      "QB       100.1  116.2  337.9  12.3  22.3  160.3  152.8  106.833333  145.8   \n",
      "\n",
      "Team       DET  ...    NO    NYG   NYJ   PHI    PIT   SEA      SF     TB  \\\n",
      "FantPos         ...                                                        \n",
      "QB       11.75  ...  16.7  156.5  98.8  23.3  244.2  18.4  140.25  98.75   \n",
      "\n",
      "Team       TEN    WAS  \n",
      "FantPos                \n",
      "QB       125.0  138.1  \n",
      "\n",
      "[1 rows x 30 columns]\n"
     ]
    },
    {
     "name": "stderr",
     "output_type": "stream",
     "text": [
      "C:\\Users\\raind\\AppData\\Local\\Temp\\ipykernel_19028\\3220505103.py:11: FutureWarning: The provided callable <function mean at 0x00000258557E3060> is currently using DataFrameGroupBy.mean. In a future version of pandas, the provided callable will be used directly. To keep current behavior pass 'mean' instead.\n",
      "  pivot_table = merged_df.pivot_table(index='FantPos', columns='Team', values='FPTS', aggfunc=np.mean)\n"
     ]
    }
   ],
   "source": [
    "# Load player data from CSV file\n",
    "player_data = pd.read_csv(file_path)\n",
    "\n",
    "# Load fantasy projections data from CSV file\n",
    "fantasy_pros_data = pd.read_csv(file_path2)\n",
    "\n",
    "# Merge dataframes based on 'Player' column\n",
    "merged_df = player_data.merge(fantasy_pros_data, on='Player')\n",
    "\n",
    "# Create a pivot table to summarize fantasy points by position and team\n",
    "pivot_table = merged_df.pivot_table(index='FantPos', columns='Team', values='FPTS', aggfunc=np.mean)\n",
    "\n",
    "# Print the pivot table\n",
    "print(pivot_table)"
   ]
  }
 ],
 "metadata": {
  "kernelspec": {
   "display_name": "Python 3",
   "language": "python",
   "name": "python3"
  },
  "language_info": {
   "codemirror_mode": {
    "name": "ipython",
    "version": 3
   },
   "file_extension": ".py",
   "mimetype": "text/x-python",
   "name": "python",
   "nbconvert_exporter": "python",
   "pygments_lexer": "ipython3",
   "version": "3.11.4"
  }
 },
 "nbformat": 4,
 "nbformat_minor": 2
}
