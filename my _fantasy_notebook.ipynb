{
 "cells": [
  {
   "cell_type": "code",
   "execution_count": null,
   "metadata": {},
   "outputs": [],
   "source": [
    "import pandas as pd\n",
    "import matplotlib.pyplot as plt\n",
    "import numpy as np\n",
    "import pandasql as sql\n",
    "\n",
    "\n",
    "\n",
    "file_path = r'C:\\Users\\raind\\OneDrive\\Desktop\\Python DA Class July 2023\\Players CSV.csv'\n",
    "\n",
    "df = pd.read_csv(file_path)\n",
    "\n",
    "\n",
    "\n",
    "file_path2 = r'C:\\Users\\raind\\OneDrive\\Desktop\\Python DA Class July 2023\\FantasyPros_Fantasy_Football_Projections_QB.csv'\n",
    "\n",
    "df2 = pd.read_csv(file_path2)\n",
    "\n",
    "merged_df = df.merge(df2, on='Player')\n",
    "\n",
    "\n",
    "merged_df.head(250)\n",
    "\n",
    "\n",
    "\n",
    "\n"
   ]
  },
  {
   "cell_type": "code",
   "execution_count": null,
   "metadata": {},
   "outputs": [],
   "source": [
    "#Data Cleaning Steps\n",
    "# Cell 3: Data Cleaning\n",
    "df_cleaned = df.dropna()\n",
    "\n",
    "# Specify columns to eliminate\n",
    "columns_to_eliminate = ['Age', 'G', 'GS', 'Y/A', '2:00 PM', '2PP', 'Fmb', 'FL' ]\n",
    "\n",
    "# Drop specified columns\n",
    "df_cleaned = df.drop(columns=columns_to_eliminate)\n",
    "\n",
    "# Display the resulting DataFrame\n",
    "df_cleaned.head(250)\n",
    "\n",
    "\n",
    "\n",
    "\n",
    "\n",
    "\n",
    "\n"
   ]
  },
  {
   "cell_type": "code",
   "execution_count": null,
   "metadata": {},
   "outputs": [],
   "source": [
    "\n",
    "\n",
    "\n",
    "# Group the DataFrame by position and calculate the average fantasy points for each position\n",
    "average_fantasy_points = df.groupby('FantPos')['FantPt'].mean()\n",
    "\n",
    "# Sort the average fantasy points in descending order\n",
    "average_fantasy_points = average_fantasy_points.sort_values(ascending=False)\n",
    "\n",
    "# Create a bar chart to visualize the average fantasy points for each position\n",
    "plt.bar(average_fantasy_points.index, average_fantasy_points.values)\n",
    "plt.xlabel('Position')\n",
    "plt.ylabel('Average Fantasy Points')\n",
    "plt.title('Average Fantasy Points by Position')\n",
    "plt.show()\n"
   ]
  },
  {
   "cell_type": "code",
   "execution_count": null,
   "metadata": {},
   "outputs": [],
   "source": [
    "# Check for missing values in 'Player' column\n",
    "print(df['Player'].isnull().sum())\n",
    "\n",
    "# Check for missing values in 'FPTS' column\n",
    "print(df2['FPTS'].isnull().sum())\n",
    "\n",
    "# Remove rows with missing values in 'Player' column\n",
    "df.dropna(subset=['Player'], inplace=True)\n",
    "\n",
    "# Remove rows with missing values in 'FPTS' column\n",
    "df2.dropna(subset=['FPTS'], inplace=True)\n",
    "\n",
    "# Check for duplicate rows in 'Player' column\n",
    "print(df['Player'].duplicated().sum())\n",
    "\n",
    "# Remove duplicate rows in 'Player' column\n",
    "df.drop_duplicates(subset=['Player'], inplace=True)\n"
   ]
  },
  {
   "cell_type": "code",
   "execution_count": null,
   "metadata": {},
   "outputs": [],
   "source": [
    "# Using pandasql library for SQL join\n",
    "merged_df = sql.sqldf(\"SELECT * FROM df LEFT JOIN df2 ON df.Player = df2.Player\")\n",
    "\n",
    "# Using plain SQL for SQL join\n",
    "merged_df = pd.merge(df, df2, on='Player', how='left')\n"
   ]
  },
  {
   "cell_type": "code",
   "execution_count": null,
   "metadata": {},
   "outputs": [],
   "source": [
    "# Group the DataFrame by position and calculate the average fantasy points for each position\n",
    "average_fantasy_points = merged_df.groupby('Position')['FPTS'].mean()\n",
    "\n",
    "# Sort the average fantasy points in descending order\n",
    "average_fantasy_points = average_fantasy_points.sort_values(ascending=False)\n",
    "\n",
    "# Create a bar chart to visualize the average fantasy points for each position\n",
    "plt.bar(average_fantasy_points.index, average_fantasy_points.values)\n",
    "plt.xlabel('Position')\n",
    "plt.ylabel('Average Fantasy Points')\n",
    "plt.title('Average Fantasy Points by Position')\n",
    "plt.show()\n"
   ]
  }
 ],
 "metadata": {
  "kernelspec": {
   "display_name": "Python 3",
   "language": "python",
   "name": "python3"
  },
  "language_info": {
   "codemirror_mode": {
    "name": "ipython",
    "version": 3
   },
   "file_extension": ".py",
   "mimetype": "text/x-python",
   "name": "python",
   "nbconvert_exporter": "python",
   "pygments_lexer": "ipython3",
   "version": "3.11.4"
  }
 },
 "nbformat": 4,
 "nbformat_minor": 2
}
